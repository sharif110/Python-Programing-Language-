{
 "cells": [
  {
   "cell_type": "markdown",
   "metadata": {
    "slideshow": {
     "slide_type": "slide"
    }
   },
   "source": [
    "### Square root! \n",
    "\n",
    "Back to our square root example! We can finally write code for our algo. "
   ]
  },
  {
   "cell_type": "code",
   "execution_count": 3,
   "metadata": {},
   "outputs": [
    {
     "name": "stdout",
     "output_type": "stream",
     "text": [
      "x = 3\n",
      "y = 2\n"
     ]
    }
   ],
   "source": [
    "x, y = 2, 3\n",
    "x, y = y, x\n",
    "print('x =', x)\n",
    "print('y =', y)"
   ]
  },
  {
   "cell_type": "code",
   "execution_count": 14,
   "metadata": {},
   "outputs": [
    {
     "name": "stdout",
     "output_type": "stream",
     "text": [
      "not even nor odd\n"
     ]
    }
   ],
   "source": [
    "a = 2\n",
    "b = 0\n",
    "if a or b == 0:\n",
    "    print(\"not even nor odd\")\n",
    "elif a%2==0:\n",
    "    if b%2==0:\n",
    "        print(\"a and b, is even\")\n",
    "    else:\n",
    "        print(\"a is even but b is not even\")\n",
    "elif b%2==0:\n",
    "    print(\"b is even and a is not even\")\n",
    "else:\n",
    "    print(\"a and b is not even\")"
   ]
  },
  {
   "cell_type": "code",
   "execution_count": null,
   "metadata": {
    "slideshow": {
     "slide_type": "slide"
    }
   },
   "outputs": [],
   "source": [
    "def sqrt(x, guess = 0.0): \n",
    "    if x < 0: \n",
    "        return None \n",
    "    \n",
    "    if good_enough(guess, x): \n",
    "        return guess \n",
    "    \n",
    "    else: \n",
    "        new_guess = improve_guess(guess, x)  \n",
    "        return sqrt(x, new_guess)\n",
    "    \n",
    "\n"
   ]
  },
  {
   "cell_type": "code",
   "execution_count": 15,
   "metadata": {},
   "outputs": [],
   "source": [
    "def sqrt(x,guess = 0.0):\n",
    "    if x<0:\n",
    "        return None\n",
    "    elif good_enough(guess,x):\n",
    "        return guess\n",
    "    else:\n",
    "        new_guess=improve_guess(guess,x)\n",
    "        return sqrt(x,new_guess)"
   ]
  },
  {
   "cell_type": "code",
   "execution_count": 16,
   "metadata": {},
   "outputs": [],
   "source": [
    "def good_enough(guess,x):\n",
    "    if abs(guess*guess-x)<0.1:\n",
    "        return True\n",
    "    else:\n",
    "        False"
   ]
  },
  {
   "cell_type": "code",
   "execution_count": 19,
   "metadata": {},
   "outputs": [],
   "source": [
    "def improve_guess(guess,x):\n",
    "    if guess < x:\n",
    "        return guess + 0.1\n",
    "    else:\n",
    "        return guess -0.1\n",
    "        "
   ]
  },
  {
   "cell_type": "code",
   "execution_count": null,
   "metadata": {
    "slideshow": {
     "slide_type": "slide"
    }
   },
   "outputs": [],
   "source": [
    "def good_enough(guess, x): \n",
    "    if abs(guess * guess - x) < 0.1: \n",
    "        return True\n",
    "    else: \n",
    "        return False \n",
    "    \n",
    "    "
   ]
  },
  {
   "cell_type": "code",
   "execution_count": null,
   "metadata": {
    "slideshow": {
     "slide_type": "fragment"
    }
   },
   "outputs": [],
   "source": [
    "def improve_guess(guess, x): \n",
    "    if guess < x: \n",
    "        return guess + 0.1 \n",
    "    else: \n",
    "        return guess - 0.1 \n",
    "    \n",
    "    "
   ]
  },
  {
   "cell_type": "code",
   "execution_count": 20,
   "metadata": {
    "slideshow": {
     "slide_type": "slide"
    }
   },
   "outputs": [
    {
     "name": "stdout",
     "output_type": "stream",
     "text": [
      "2.0\n"
     ]
    }
   ],
   "source": [
    "print(sqrt(4, 1.8))     # for the tutor, give stating guess as 1.8"
   ]
  },
  {
   "cell_type": "code",
   "execution_count": 21,
   "metadata": {},
   "outputs": [
    {
     "name": "stdout",
     "output_type": "stream",
     "text": [
      "None\n"
     ]
    }
   ],
   "source": [
    "print(sqrt(-2))  # let's also handle this case in our function "
   ]
  },
  {
   "cell_type": "code",
   "execution_count": null,
   "metadata": {},
   "outputs": [],
   "source": [
    "Write a program that examines three variables— x , y , and z —and\n",
    "prints the largest odd number among them. If none of them are odd, it should\n",
    "print a message to that effect."
   ]
  },
  {
   "cell_type": "code",
   "execution_count": 41,
   "metadata": {},
   "outputs": [],
   "source": [
    "def Greater_odd_number(x,y,z):\n",
    "    if x % 2 == 0 and y % 2 == 0 and z % 2 != 0:\n",
    "        return z\n",
    "    elif x % 2 == 0 and y % 2 != 0 and z % 2 == 0:\n",
    "        return y\n",
    "    elif x % 2 != 0 and y % 2 == 0 and z % 2 == 0:\n",
    "        return x\n",
    "    elif x%2==1 and x>y  and x>z :\n",
    "        return x       \n",
    "    elif y%2==1 and y>x and y>z:\n",
    "        return y\n",
    "    elif z%2==1 and z>x and z>y:\n",
    "        return z\n",
    "    else:\n",
    "        return \"There is no odd number\"\n",
    "                "
   ]
  },
  {
   "cell_type": "code",
   "execution_count": 43,
   "metadata": {},
   "outputs": [
    {
     "data": {
      "text/plain": [
       "-1"
      ]
     },
     "execution_count": 43,
     "metadata": {},
     "output_type": "execute_result"
    }
   ],
   "source": [
    "odd_num(12,-1,0)"
   ]
  },
  {
   "cell_type": "markdown",
   "metadata": {
    "slideshow": {
     "slide_type": "slide"
    }
   },
   "source": [
    "## Reading Assignment \n",
    "\n",
    "* Section *2.2 Branching Programs* from the Guttag's python book.\n",
    "* Composing Programs: *Chapter 1.5 Control* upto and including *1.5.4 Conditional Statements* (meaning, stop when you reach 1.5.5 (http://www.composingprograms.com/pages/15-control.html)"
   ]
  },
  {
   "cell_type": "code",
   "execution_count": 3,
   "metadata": {},
   "outputs": [],
   "source": [
    "def greatest_num(a,b,x,y):\n",
    "    if a>b and a>x and a>y:\n",
    "        return a\n",
    "    elif b>a and b>x and b>y:\n",
    "        return b\n",
    "    elif x>a and x>b and x>y:\n",
    "        return x\n",
    "    else:\n",
    "        return y"
   ]
  },
  {
   "cell_type": "code",
   "execution_count": 8,
   "metadata": {},
   "outputs": [
    {
     "data": {
      "text/plain": [
       "12"
      ]
     },
     "execution_count": 8,
     "metadata": {},
     "output_type": "execute_result"
    }
   ],
   "source": [
    "greatest_num(12,8,7,6)"
   ]
  },
  {
   "cell_type": "code",
   "execution_count": 13,
   "metadata": {},
   "outputs": [],
   "source": [
    "def pass_fail(x,y,z):\n",
    "    if x<33 or y<33 or  z<33:\n",
    "        print(\"fail\")\n",
    "    if (x+y+z)/3 < 40:\n",
    "        print(\"fail\")\n",
    "    else:\n",
    "        print(\"pass\")"
   ]
  },
  {
   "cell_type": "code",
   "execution_count": 17,
   "metadata": {},
   "outputs": [
    {
     "name": "stdout",
     "output_type": "stream",
     "text": [
      "pass\n"
     ]
    }
   ],
   "source": [
    "pass_fail(40,47,33)"
   ]
  },
  {
   "cell_type": "code",
   "execution_count": 19,
   "metadata": {},
   "outputs": [
    {
     "name": "stdout",
     "output_type": "stream",
     "text": [
      "Namesharifalij\n",
      "yes\n"
     ]
    }
   ],
   "source": [
    "a =input(\"Name\")\n",
    "if len(a) == 10:\n",
    "    print(\"yes\")\n",
    "else:\n",
    "    print(\"No\")"
   ]
  },
  {
   "cell_type": "code",
   "execution_count": 29,
   "metadata": {},
   "outputs": [],
   "source": [
    "def grades(x):\n",
    "    if x>=90 and x<100:\n",
    "        return \"Excellent\"\n",
    "    if x>=80 and x<90:\n",
    "        return \"A\"\n",
    "    if x>=70 and x<80:\n",
    "        return \"B\"\n",
    "    if x>=60 and x<70:\n",
    "        return \"c\"\n",
    "    if x>=50 and x<60:\n",
    "        return \"D\"\n",
    "    else:\n",
    "        return \"F\"\n",
    "        "
   ]
  },
  {
   "cell_type": "code",
   "execution_count": 34,
   "metadata": {},
   "outputs": [
    {
     "data": {
      "text/plain": [
       "'c'"
      ]
     },
     "execution_count": 34,
     "metadata": {},
     "output_type": "execute_result"
    }
   ],
   "source": [
    "grades(60)"
   ]
  },
  {
   "cell_type": "code",
   "execution_count": 37,
   "metadata": {},
   "outputs": [
    {
     "name": "stdout",
     "output_type": "stream",
     "text": [
      "table of 2 is 2 x 1 = 2\n",
      "table of 2 is 2 x 2 = 4\n",
      "table of 2 is 2 x 3 = 6\n",
      "table of 2 is 2 x 4 = 8\n",
      "table of 2 is 2 x 5 = 10\n",
      "table of 2 is 2 x 6 = 12\n",
      "table of 2 is 2 x 7 = 14\n",
      "table of 2 is 2 x 8 = 16\n",
      "table of 2 is 2 x 9 = 18\n",
      "table of 3 is 3 x 1 = 3\n",
      "table of 3 is 3 x 2 = 6\n",
      "table of 3 is 3 x 3 = 9\n",
      "table of 3 is 3 x 4 = 12\n",
      "table of 3 is 3 x 5 = 15\n",
      "table of 3 is 3 x 6 = 18\n",
      "table of 3 is 3 x 7 = 21\n",
      "table of 3 is 3 x 8 = 24\n",
      "table of 3 is 3 x 9 = 27\n"
     ]
    }
   ],
   "source": [
    "for i in range(2,4):\n",
    "    for j in range(1,10):\n",
    "        print(i,\"x\",j,\"=\", i*j) "
   ]
  },
  {
   "cell_type": "code",
   "execution_count": null,
   "metadata": {},
   "outputs": [],
   "source": []
  }
 ],
 "metadata": {
  "celltoolbar": "Slideshow",
  "kernelspec": {
   "display_name": "Python 3",
   "language": "python",
   "name": "python3"
  },
  "language_info": {
   "codemirror_mode": {
    "name": "ipython",
    "version": 3
   },
   "file_extension": ".py",
   "mimetype": "text/x-python",
   "name": "python",
   "nbconvert_exporter": "python",
   "pygments_lexer": "ipython3",
   "version": "3.8.3"
  },
  "livereveal": {
   "transition": "fade"
  }
 },
 "nbformat": 4,
 "nbformat_minor": 2
}
