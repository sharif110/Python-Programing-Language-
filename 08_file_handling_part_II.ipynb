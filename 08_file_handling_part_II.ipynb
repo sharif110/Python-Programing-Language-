{
 "cells": [
  {
   "cell_type": "markdown",
   "metadata": {
    "slideshow": {
     "slide_type": "slide"
    }
   },
   "source": [
    "## Case Study: Comma Separated Values "
   ]
  },
  {
   "cell_type": "code",
   "execution_count": 1,
   "metadata": {},
   "outputs": [
    {
     "name": "stdout",
     "output_type": "stream",
     "text": [
      "res/datafile.csv\n"
     ]
    }
   ],
   "source": [
    "directory = \"res\"\n",
    "import os \n",
    "csv_filename = os.path.join(directory, 'datafile.csv')\n",
    "print(csv_filename)"
   ]
  },
  {
   "cell_type": "code",
   "execution_count": 3,
   "metadata": {
    "slideshow": {
     "slide_type": "slide"
    }
   },
   "outputs": [
    {
     "name": "stdout",
     "output_type": "stream",
     "text": [
      "file not found\n"
     ]
    }
   ],
   "source": [
    "try:\n",
    "    with open(csv_filename, 'r') as f: \n",
    "        for line in f: \n",
    "            print(line.strip().split(\",\"))    # let's save this in a list \n",
    "except FileNotFoundError :\n",
    "    print (\"file not found\")"
   ]
  },
  {
   "cell_type": "code",
   "execution_count": 5,
   "metadata": {
    "slideshow": {
     "slide_type": "slide"
    }
   },
   "outputs": [
    {
     "data": {
      "text/plain": [
       "[['Roll no', 'Full Name', ' A1', ' A2', ' A3', ' A4'],\n",
       " ['p101111', 'Ali Khayam', ' 64', ' 78.5', ' 89', ' 25'],\n",
       " ['p101112', 'Mudasser Farooq', ' 14', ' 28.5', ' 83', ' 76'],\n",
       " ['p101113', 'Tamleek Ali', ' 87', ' 12', ' 1.6', ' 22']]"
      ]
     },
     "execution_count": 5,
     "metadata": {},
     "output_type": "execute_result"
    }
   ],
   "source": [
    "rows = [] \n",
    "\n",
    "with open(csv_filename) as f: \n",
    "    for line in f: \n",
    "        # print line.strip().split(',')   # let's save this in a list \n",
    "        rows.append(line.strip().split(','))\n",
    "rows"
   ]
  },
  {
   "cell_type": "code",
   "execution_count": 18,
   "metadata": {},
   "outputs": [
    {
     "data": {
      "text/plain": [
       "[['Roll no', 'Full Name', ' A1', ' A2', ' A3', ' A4'],\n",
       " ['p101111', 'Ali Khayam', ' 64', ' 78.5', ' 89', ' 25'],\n",
       " ['p101112', 'Mudasser Farooq', ' 14', ' 28.5', ' 83', ' 76'],\n",
       " ['p101113', 'Tamleek Ali', ' 87', ' 12', ' 1.6', ' 22']]"
      ]
     },
     "execution_count": 18,
     "metadata": {},
     "output_type": "execute_result"
    }
   ],
   "source": [
    "rows"
   ]
  },
  {
   "cell_type": "code",
   "execution_count": 19,
   "metadata": {
    "slideshow": {
     "slide_type": "slide"
    }
   },
   "outputs": [
    {
     "data": {
      "text/plain": [
       "[['Roll no', 'Full Name', ' A1', ' A2', ' A3', ' A4'],\n",
       " ['p101111', 'Ali Khayam', 64.0, 78.5, 89.0, 25.0],\n",
       " ['p101112', 'Mudasser Farooq', 14.0, 28.5, 83.0, 76.0],\n",
       " ['p101113', 'Tamleek Ali', 87.0, 12.0, 1.6, 22.0]]"
      ]
     },
     "execution_count": 19,
     "metadata": {},
     "output_type": "execute_result"
    }
   ],
   "source": [
    "for r in rows[1:]:       # skip the header \n",
    "    for c in range(2, 6):\n",
    "        r[c] = float(r[c])\n",
    "rows"
   ]
  },
  {
   "cell_type": "code",
   "execution_count": 22,
   "metadata": {},
   "outputs": [],
   "source": [
    "rows[0].append('Average')"
   ]
  },
  {
   "cell_type": "code",
   "execution_count": 32,
   "metadata": {},
   "outputs": [
    {
     "data": {
      "text/plain": [
       "[['Roll no', 'Full Name', ' A1', ' A2', ' A3', ' A4', 'Average'],\n",
       " ['p101111', 'Ali Khayam', 64.0, 78.5, 89.0, 25.0],\n",
       " ['p101112', 'Mudasser Farooq', 14.0, 28.5, 83.0, 76.0],\n",
       " ['p101113', 'Tamleek Ali', 87.0, 12.0, 1.6, 22.0]]"
      ]
     },
     "execution_count": 32,
     "metadata": {},
     "output_type": "execute_result"
    }
   ],
   "source": [
    "rows"
   ]
  },
  {
   "cell_type": "code",
   "execution_count": 35,
   "metadata": {},
   "outputs": [
    {
     "data": {
      "text/plain": [
       "[['Roll no', 'Full Name', ' A1', ' A2', ' A3', ' A4', 'Average'],\n",
       " ['p101111', 'Ali Khayam', 64.0, 78.5, 89.0, 25.0, 64.125],\n",
       " ['p101112', 'Mudasser Farooq', 14.0, 28.5, 83.0, 76.0, 50.375],\n",
       " ['p101113', 'Tamleek Ali', 87.0, 12.0, 1.6, 22.0, 30.65]]"
      ]
     },
     "execution_count": 35,
     "metadata": {},
     "output_type": "execute_result"
    }
   ],
   "source": [
    "assignments = len(rows[1][2:])\n",
    "for r in rows[1:]:\n",
    "    s = 0\n",
    "    for c in range(2, len(r)):\n",
    "        s += r[c]\n",
    "    average = s / assignments\n",
    "    r.append(average)\n",
    "\n",
    "rows"
   ]
  },
  {
   "cell_type": "markdown",
   "metadata": {
    "slideshow": {
     "slide_type": "slide"
    }
   },
   "source": [
    "### Writing CSV Files "
   ]
  },
  {
   "cell_type": "code",
   "execution_count": 36,
   "metadata": {},
   "outputs": [
    {
     "data": {
      "text/plain": [
       "['a', 'b', 'c']"
      ]
     },
     "execution_count": 36,
     "metadata": {},
     "output_type": "execute_result"
    }
   ],
   "source": [
    "\"a,b,c\".split(',')"
   ]
  },
  {
   "cell_type": "code",
   "execution_count": 40,
   "metadata": {
    "slideshow": {
     "slide_type": "fragment"
    }
   },
   "outputs": [
    {
     "data": {
      "text/plain": [
       "'a,b,c'"
      ]
     },
     "execution_count": 40,
     "metadata": {},
     "output_type": "execute_result"
    }
   ],
   "source": [
    "','.join( ['a', 'b', 'c'] )"
   ]
  },
  {
   "cell_type": "code",
   "execution_count": 41,
   "metadata": {
    "slideshow": {
     "slide_type": "slide"
    }
   },
   "outputs": [
    {
     "data": {
      "text/plain": [
       "[['Roll no', 'Full Name', ' A1', ' A2', ' A3', ' A4', 'Average'],\n",
       " ['p101111', 'Ali Khayam', 64.0, 78.5, 89.0, 25.0, 64.125],\n",
       " ['p101112', 'Mudasser Farooq', 14.0, 28.5, 83.0, 76.0, 50.375],\n",
       " ['p101113', 'Tamleek Ali', 87.0, 12.0, 1.6, 22.0, 30.65]]"
      ]
     },
     "execution_count": 41,
     "metadata": {},
     "output_type": "execute_result"
    }
   ],
   "source": [
    "rows "
   ]
  },
  {
   "cell_type": "code",
   "execution_count": 42,
   "metadata": {},
   "outputs": [
    {
     "name": "stdout",
     "output_type": "stream",
     "text": [
      "['Roll no', 'Full Name', ' A1', ' A2', ' A3', ' A4', 'Average']\n",
      "['p101111', 'Ali Khayam', 64.0, 78.5, 89.0, 25.0, 64.125]\n",
      "['p101112', 'Mudasser Farooq', 14.0, 28.5, 83.0, 76.0, 50.375]\n",
      "['p101113', 'Tamleek Ali', 87.0, 12.0, 1.6, 22.0, 30.65]\n"
     ]
    }
   ],
   "source": [
    "for r in rows:\n",
    "    print(r)"
   ]
  },
  {
   "cell_type": "code",
   "execution_count": 44,
   "metadata": {},
   "outputs": [
    {
     "data": {
      "text/plain": [
       "[['p101111', 'Ali Khayam', 64.0, 78.5, 89.0, 25.0, 64.125],\n",
       " ['p101112', 'Mudasser Farooq', 14.0, 28.5, 83.0, 76.0, 50.375],\n",
       " ['p101113', 'Tamleek Ali', 87.0, 12.0, 1.6, 22.0, 30.65]]"
      ]
     },
     "execution_count": 44,
     "metadata": {},
     "output_type": "execute_result"
    }
   ],
   "source": [
    "rows[1:]"
   ]
  },
  {
   "cell_type": "code",
   "execution_count": 46,
   "metadata": {
    "slideshow": {
     "slide_type": "slide"
    }
   },
   "outputs": [
    {
     "name": "stdout",
     "output_type": "stream",
     "text": [
      "['Roll no', 'Full Name', ' A1', ' A2', ' A3', ' A4', 'Average']\n",
      "['p101111', 'Ali Khayam', '64.0', '78.5', '89.0', '25.0', '64.125']\n",
      "['p101112', 'Mudasser Farooq', '14.0', '28.5', '83.0', '76.0', '50.375']\n",
      "['p101113', 'Tamleek Ali', '87.0', '12.0', '1.6', '22.0', '30.65']\n"
     ]
    }
   ],
   "source": [
    "for r in rows: \n",
    "    print([str(c) for c in r])   # save this in a list        "
   ]
  },
  {
   "cell_type": "code",
   "execution_count": 47,
   "metadata": {
    "slideshow": {
     "slide_type": "slide"
    }
   },
   "outputs": [
    {
     "data": {
      "text/plain": [
       "[['Roll no', 'Full Name', ' A1', ' A2', ' A3', ' A4', 'Average'],\n",
       " ['p101111', 'Ali Khayam', '64.0', '78.5', '89.0', '25.0', '64.125'],\n",
       " ['p101112', 'Mudasser Farooq', '14.0', '28.5', '83.0', '76.0', '50.375'],\n",
       " ['p101113', 'Tamleek Ali', '87.0', '12.0', '1.6', '22.0', '30.65']]"
      ]
     },
     "execution_count": 47,
     "metadata": {},
     "output_type": "execute_result"
    }
   ],
   "source": [
    "out_rows = []\n",
    "\n",
    "for r in rows: \n",
    "    r = [str(c) for c in r]   # save this in a list \n",
    "    out_rows.append(r) \n",
    "    \n",
    "out_rows"
   ]
  },
  {
   "cell_type": "code",
   "execution_count": 50,
   "metadata": {},
   "outputs": [
    {
     "data": {
      "text/plain": [
       "[['Roll no', 'Full Name', ' A1', ' A2', ' A3', ' A4', 'Average'],\n",
       " ['p101111', 'Ali Khayam', '64.0', '78.5', '89.0', '25.0', '64.125'],\n",
       " ['p101112', 'Mudasser Farooq', '14.0', '28.5', '83.0', '76.0', '50.375'],\n",
       " ['p101113', 'Tamleek Ali', '87.0', '12.0', '1.6', '22.0', '30.65']]"
      ]
     },
     "execution_count": 50,
     "metadata": {},
     "output_type": "execute_result"
    }
   ],
   "source": [
    "out_rows"
   ]
  },
  {
   "cell_type": "code",
   "execution_count": 51,
   "metadata": {
    "scrolled": true,
    "slideshow": {
     "slide_type": "slide"
    }
   },
   "outputs": [
    {
     "name": "stdout",
     "output_type": "stream",
     "text": [
      "Roll no,Full Name, A1, A2, A3, A4,Average\n",
      "p101111,Ali Khayam,64.0,78.5,89.0,25.0,64.125\n",
      "p101112,Mudasser Farooq,14.0,28.5,83.0,76.0,50.375\n",
      "p101113,Tamleek Ali,87.0,12.0,1.6,22.0,30.65\n"
     ]
    }
   ],
   "source": [
    "for r in out_rows: \n",
    "    out_line = ','.join(r)  # and then save this to a file \n",
    "    print(out_line)"
   ]
  },
  {
   "cell_type": "code",
   "execution_count": 52,
   "metadata": {},
   "outputs": [
    {
     "data": {
      "text/plain": [
       "[['Roll no', 'Full Name', ' A1', ' A2', ' A3', ' A4', 'Average'],\n",
       " ['p101111', 'Ali Khayam', '64.0', '78.5', '89.0', '25.0', '64.125'],\n",
       " ['p101112', 'Mudasser Farooq', '14.0', '28.5', '83.0', '76.0', '50.375'],\n",
       " ['p101113', 'Tamleek Ali', '87.0', '12.0', '1.6', '22.0', '30.65']]"
      ]
     },
     "execution_count": 52,
     "metadata": {},
     "output_type": "execute_result"
    }
   ],
   "source": [
    "out_rows"
   ]
  },
  {
   "cell_type": "code",
   "execution_count": 53,
   "metadata": {
    "slideshow": {
     "slide_type": "slide"
    }
   },
   "outputs": [
    {
     "name": "stdout",
     "output_type": "stream",
     "text": [
      "res\\datafile-out.csv\n"
     ]
    }
   ],
   "source": [
    "csv_filename_out = os.path.join('res', 'datafile-out.csv')\n",
    "print(csv_filename_out)\n",
    "\n",
    "with open(csv_filename_out, 'w') as f: \n",
    "    for r in out_rows: \n",
    "        out_line = ','.join(r)  # and then save this to a file \n",
    "        f.write(out_line + \"\\n\")"
   ]
  },
  {
   "cell_type": "code",
   "execution_count": null,
   "metadata": {},
   "outputs": [],
   "source": []
  }
 ],
 "metadata": {
  "celltoolbar": "Slideshow",
  "kernelspec": {
   "display_name": "Python 3",
   "language": "python",
   "name": "python3"
  },
  "language_info": {
   "codemirror_mode": {
    "name": "ipython",
    "version": 3
   },
   "file_extension": ".py",
   "mimetype": "text/x-python",
   "name": "python",
   "nbconvert_exporter": "python",
   "pygments_lexer": "ipython3",
   "version": "3.8.3"
  },
  "livereveal": {
   "transition": "fade"
  }
 },
 "nbformat": 4,
 "nbformat_minor": 2
}
