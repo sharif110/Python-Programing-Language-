{
 "cells": [
  {
   "cell_type": "code",
   "execution_count": 12,
   "metadata": {},
   "outputs": [],
   "source": [
    "paragraph = \"Just remember that the things you put into your head are there forever, he said. You might want to think about that. You forget some things, dont you? Yes. You forget what you want to remember and you remember what you want to forget.\""
   ]
  },
  {
   "cell_type": "code",
   "execution_count": 13,
   "metadata": {},
   "outputs": [],
   "source": [
    "words = paragraph.split(\" \")"
   ]
  },
  {
   "cell_type": "code",
   "execution_count": 14,
   "metadata": {},
   "outputs": [
    {
     "data": {
      "text/plain": [
       "['Just',\n",
       " 'remember',\n",
       " 'that',\n",
       " 'the',\n",
       " 'things',\n",
       " 'you',\n",
       " 'put',\n",
       " 'into',\n",
       " 'your',\n",
       " 'head',\n",
       " 'are',\n",
       " 'there',\n",
       " 'forever,',\n",
       " 'he',\n",
       " 'said.',\n",
       " 'You',\n",
       " 'might',\n",
       " 'want',\n",
       " 'to',\n",
       " 'think',\n",
       " 'about',\n",
       " 'that.',\n",
       " 'You',\n",
       " 'forget',\n",
       " 'some',\n",
       " 'things,',\n",
       " 'dont',\n",
       " 'you?',\n",
       " 'Yes.',\n",
       " 'You',\n",
       " 'forget',\n",
       " 'what',\n",
       " 'you',\n",
       " 'want',\n",
       " 'to',\n",
       " 'remember',\n",
       " 'and',\n",
       " 'you',\n",
       " 'remember',\n",
       " 'what',\n",
       " 'you',\n",
       " 'want',\n",
       " 'to',\n",
       " 'forget.']"
      ]
     },
     "execution_count": 14,
     "metadata": {},
     "output_type": "execute_result"
    }
   ],
   "source": [
    "words"
   ]
  },
  {
   "cell_type": "code",
   "execution_count": 15,
   "metadata": {},
   "outputs": [],
   "source": [
    "distinct_words = []\n",
    "for i in words:\n",
    "    if i not in distinct_words:\n",
    "        distinct_words.append(i)"
   ]
  },
  {
   "cell_type": "code",
   "execution_count": 16,
   "metadata": {},
   "outputs": [
    {
     "data": {
      "text/plain": [
       "['Just',\n",
       " 'remember',\n",
       " 'that',\n",
       " 'the',\n",
       " 'things',\n",
       " 'you',\n",
       " 'put',\n",
       " 'into',\n",
       " 'your',\n",
       " 'head',\n",
       " 'are',\n",
       " 'there',\n",
       " 'forever,',\n",
       " 'he',\n",
       " 'said.',\n",
       " 'You',\n",
       " 'might',\n",
       " 'want',\n",
       " 'to',\n",
       " 'think',\n",
       " 'about',\n",
       " 'that.',\n",
       " 'forget',\n",
       " 'some',\n",
       " 'things,',\n",
       " 'dont',\n",
       " 'you?',\n",
       " 'Yes.',\n",
       " 'what',\n",
       " 'and',\n",
       " 'forget.']"
      ]
     },
     "execution_count": 16,
     "metadata": {},
     "output_type": "execute_result"
    }
   ],
   "source": [
    "distinct_words"
   ]
  },
  {
   "cell_type": "code",
   "execution_count": 17,
   "metadata": {},
   "outputs": [
    {
     "data": {
      "text/plain": [
       "31"
      ]
     },
     "execution_count": 17,
     "metadata": {},
     "output_type": "execute_result"
    }
   ],
   "source": [
    "len(distinct_words)"
   ]
  },
  {
   "cell_type": "code",
   "execution_count": 18,
   "metadata": {},
   "outputs": [
    {
     "data": {
      "text/plain": [
       "44"
      ]
     },
     "execution_count": 18,
     "metadata": {},
     "output_type": "execute_result"
    }
   ],
   "source": [
    "len(words)"
   ]
  },
  {
   "cell_type": "code",
   "execution_count": null,
   "metadata": {},
   "outputs": [],
   "source": []
  }
 ],
 "metadata": {
  "kernelspec": {
   "display_name": "Python 3",
   "language": "python",
   "name": "python3"
  },
  "language_info": {
   "codemirror_mode": {
    "name": "ipython",
    "version": 3
   },
   "file_extension": ".py",
   "mimetype": "text/x-python",
   "name": "python",
   "nbconvert_exporter": "python",
   "pygments_lexer": "ipython3",
   "version": "3.8.3"
  }
 },
 "nbformat": 4,
 "nbformat_minor": 4
}
