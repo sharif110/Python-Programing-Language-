{
 "cells": [
  {
   "cell_type": "markdown",
   "metadata": {
    "slideshow": {
     "slide_type": "slide"
    }
   },
   "source": [
    "## Iteration, Repetition, Loops "
   ]
  },
  {
   "cell_type": "markdown",
   "metadata": {
    "slideshow": {
     "slide_type": "slide"
    }
   },
   "source": [
    "Sometimes, you want to do things more than once. "
   ]
  },
  {
   "cell_type": "code",
   "execution_count": null,
   "metadata": {},
   "outputs": [],
   "source": [
    "print('Put milk in.')\n",
    "print('Put sugar in.')\n",
    "print('Put tea leaves in.')"
   ]
  },
  {
   "cell_type": "markdown",
   "metadata": {
    "slideshow": {
     "slide_type": "slide"
    }
   },
   "source": [
    "However, that's a lot of wastage of our time. \"A good programmer is a lazy programmer!\""
   ]
  },
  {
   "cell_type": "code",
   "execution_count": null,
   "metadata": {
    "slideshow": {
     "slide_type": "slide"
    }
   },
   "outputs": [],
   "source": [
    "for ingredient in 'sugar', 'milk', 'tea leaves', 'water': \n",
    "    \n",
    "    print(\"Put\", ingredient, 'in.')"
   ]
  },
  {
   "cell_type": "markdown",
   "metadata": {},
   "source": [
    "Let's see this in the tutor first. \n",
    "\n",
    "This is a compound statement that \"loops\" over the body. This particular type, surprisingly, is termed as the \"for loop\". It knows how many times we have to run the loop. "
   ]
  },
  {
   "cell_type": "code",
   "execution_count": null,
   "metadata": {
    "slideshow": {
     "slide_type": "slide"
    }
   },
   "outputs": [],
   "source": [
    "for ingredient in 'sugar', 'milk', 'tea leaves', 'water': \n",
    "    print(\"Put\", ingredient, \"in.\")\n",
    "    \n",
    "print(\"Outside loop: \", ingredient)\n",
    "n = 10# But we made doodh-patti! "
   ]
  },
  {
   "cell_type": "code",
   "execution_count": null,
   "metadata": {
    "slideshow": {
     "slide_type": "slide"
    }
   },
   "outputs": [],
   "source": [
    "n = 14\n",
    "for i in range(1, n):   # loop over a few numbers \n",
    "        if i % 5 == 0:\n",
    "            break\n",
    "            \n",
    "        print(i)\n",
    "\n",
    "print(\"done\")"
   ]
  },
  {
   "cell_type": "markdown",
   "metadata": {
    "slideshow": {
     "slide_type": "slide"
    }
   },
   "source": [
    "\n",
    "Sometimes, we don't know how many times to run the loop ...\n",
    "\n",
    "... but we do know when to stop. This is called the \"while loop\". \n",
    "\n",
    "For example, we want to print all multiples of 0.13 from 0 to 1. But we don't know how many of those there are. "
   ]
  },
  {
   "cell_type": "code",
   "execution_count": null,
   "metadata": {
    "slideshow": {
     "slide_type": "slide"
    }
   },
   "outputs": [],
   "source": [
    "n = 0.13 \n",
    "counter = 0\n",
    "\n",
    "while n < 1 :\n",
    "    counter = counter + 1\n",
    "    print(n) \n",
    "    n = n + 0.13 \n",
    "\n",
    "print(\"counter: \", counter)\n",
    "print('Done.')"
   ]
  },
  {
   "cell_type": "code",
   "execution_count": null,
   "metadata": {},
   "outputs": [],
   "source": [
    "n=0.13\n",
    "count = 0\n",
    "while n < 1:\n",
    "    count+=1\n",
    "    print(n)\n",
    "    n+=0.13\n",
    "print(\"count: \",count)\n",
    "print(\"Done\")\n"
   ]
  },
  {
   "cell_type": "markdown",
   "metadata": {},
   "source": [
    "Back to the tutor! "
   ]
  },
  {
   "cell_type": "code",
   "execution_count": null,
   "metadata": {},
   "outputs": [],
   "source": [
    "# we can also count how many there were by saving the count\n",
    "n = 0.13 \n",
    "i = 0         # our counter \n",
    "\n",
    "while n < 1: \n",
    "    i = i + 1\n",
    "    print(n) \n",
    "    n = n + 0.13 \n",
    "\n",
    "print(i) \n",
    "print('Done.')"
   ]
  },
  {
   "cell_type": "code",
   "execution_count": null,
   "metadata": {
    "slideshow": {
     "slide_type": "slide"
    }
   },
   "outputs": [],
   "source": [
    "# we can also count how many there were by saving the count\n",
    "n = 0.13 \n",
    "i = 1         # our counter \n",
    "\n",
    "while i < 11: \n",
    "    i = i + 1\n",
    "    print(n) \n",
    "    n = n + 0.13 \n",
    "\n",
    "print(i) \n",
    "print('Done.')"
   ]
  },
  {
   "cell_type": "markdown",
   "metadata": {
    "slideshow": {
     "slide_type": "slide"
    }
   },
   "source": [
    "In C: \n",
    "    \n",
    "<img align='left' src='imgs/c-while.png' width='250px' /> "
   ]
  },
  {
   "cell_type": "markdown",
   "metadata": {
    "slideshow": {
     "slide_type": "slide"
    }
   },
   "source": [
    "### Factorial "
   ]
  },
  {
   "cell_type": "markdown",
   "metadata": {},
   "source": [
    "Factorial is a useful function. (It is used to calculate `sin`, `cos` and in several series as well as to calculate number of permutations etc.) \n",
    "\n",
    "Factorial of a number is the multiplication of all integers up to that number. For example, \n",
    "\n",
    "$$\\text{fact}(4) = 4 \\times 3 \\times 2 \\times 1 = 24$$\n",
    "\n"
   ]
  },
  {
   "cell_type": "markdown",
   "metadata": {},
   "source": [
    "Let's move to the slides to see how we want to formalize this problem. "
   ]
  },
  {
   "cell_type": "code",
   "execution_count": null,
   "metadata": {
    "slideshow": {
     "slide_type": "slide"
    }
   },
   "outputs": [],
   "source": [
    "fac = 1    # typically, the iteration variable is called i or j or k \n",
    "\n",
    "i = 1 \n",
    "\n",
    "while i <= 4 : \n",
    "    fac = fac * i\n",
    "    i = i + 1 \n",
    "    \n",
    "print(fac) "
   ]
  },
  {
   "cell_type": "code",
   "execution_count": null,
   "metadata": {},
   "outputs": [],
   "source": [
    "fac = 1\n",
    "i = 1\n",
    "while i <= 4:\n",
    "    fac = fac*i\n",
    "    i+=1\n",
    "print(fac)"
   ]
  },
  {
   "cell_type": "code",
   "execution_count": null,
   "metadata": {},
   "outputs": [],
   "source": [
    "def fac(n):\n",
    "    a=1\n",
    "    for i in range(1,n+1):\n",
    "        a=a*i\n",
    "    print(a)\n",
    "fac(1)\n"
   ]
  },
  {
   "cell_type": "code",
   "execution_count": null,
   "metadata": {},
   "outputs": [],
   "source": [
    "x = 4\n",
    "for i in range(0, x):\n",
    "    print(i)\n",
    "    x=6"
   ]
  },
  {
   "cell_type": "code",
   "execution_count": null,
   "metadata": {},
   "outputs": [],
   "source": [
    "x = 4\n",
    "for j in range(x):\n",
    "#     print(j)\n",
    "    for i in range(x):\n",
    "        print(i)\n",
    "        x=2\n",
    "        "
   ]
  },
  {
   "cell_type": "code",
   "execution_count": null,
   "metadata": {},
   "outputs": [],
   "source": [
    "#Find the cube root of a perfect cube\n",
    "x = int(input('Enter an integer: '))\n",
    "for ans in range(0, abs(x)+1):\n",
    "    if ans**3 >= abs(x):\n",
    "        break\n",
    "if ans**3 != abs(x):\n",
    "    print(x, 'is not a perfect cube')\n",
    "else:\n",
    "    if x < 0:\n",
    "        ans = -ans\n",
    "    print('Cube root of', x,'is', ans)"
   ]
  },
  {
   "cell_type": "code",
   "execution_count": null,
   "metadata": {},
   "outputs": [],
   "source": [
    "x = int(input(\"Enter num\"))\n",
    "for ans in range(0,abs(x)+1):\n",
    "    if ans **3 == x:\n",
    "        break\n",
    "if ans **3 != abs(x):\n",
    "    print(x,\"is not a perpect cube\")\n",
    "else:\n",
    "    if x<0:\n",
    "        ans = -ans\n",
    "    print(\"cube root of \",x,\"is\",ans)"
   ]
  },
  {
   "cell_type": "code",
   "execution_count": null,
   "metadata": {},
   "outputs": [],
   "source": [
    "total = 0\n",
    "for c in '12345678':\n",
    "    total = total + int(c)\n",
    "print(total)"
   ]
  },
  {
   "cell_type": "code",
   "execution_count": null,
   "metadata": {},
   "outputs": [],
   "source": [
    "total = 0\n",
    "a = input(\"Enter a num: \")\n",
    "for i in a:\n",
    "    total= total + int(i)\n",
    "print(total)"
   ]
  },
  {
   "cell_type": "code",
   "execution_count": null,
   "metadata": {},
   "outputs": [],
   "source": [
    "Let s be a string that contains a sequence of decimal numbers\n",
    "separated by commas, e.g., s = '1.23,2.4,3.123' . Write a program that prints the\n",
    "sum of the numbers in s ."
   ]
  },
  {
   "cell_type": "code",
   "execution_count": null,
   "metadata": {},
   "outputs": [],
   "source": [
    "total = 0\n",
    "s = '1.23,2.4,3.123'\n",
    "num = s.split(\",\")\n",
    "for i in num:\n",
    "    total = total + float(i)\n",
    "print(total)\n",
    "                                                                                                                    "
   ]
  },
  {
   "cell_type": "markdown",
   "metadata": {
    "collapsed": true
   },
   "source": [
    "## Reading Assignment \n",
    "\n",
    "* Section *2.4 Iteration* from the Guttag's python book. "
   ]
  },
  {
   "cell_type": "markdown",
   "metadata": {
    "collapsed": true,
    "slideshow": {
     "slide_type": "slide"
    }
   },
   "source": [
    "### Fibonacci Numbers\n",
    "\n",
    "Fibonacci numbers are quite useful. Here's what they look like: $ 0, 1, 1, 2, 3, 5, 8, 13, 21, \\ldots $\n",
    "\n",
    "$ \\textrm{fib}(0) = 0 $ \n",
    "\n",
    "$ \\textrm{fib}(1) = 1 $ \n",
    "\n",
    "$ \\textrm{fib}(n) = \\textrm{fib}(n-1) + \\textrm{fib}(n-2) $ \n",
    "\n",
    "What good are those, you ask? "
   ]
  },
  {
   "cell_type": "markdown",
   "metadata": {
    "slideshow": {
     "slide_type": "slide"
    }
   },
   "source": [
    "<img src='imgs/golden-ratio-fibonacci-sequence.jpg' width='400px' />\n",
    "\n",
    "And what good is _that_, you ask? "
   ]
  },
  {
   "cell_type": "markdown",
   "metadata": {
    "slideshow": {
     "slide_type": "slide"
    }
   },
   "source": [
    "<img src='imgs/golden-ratio-photo1.jpg' width='400px' />\n"
   ]
  },
  {
   "cell_type": "markdown",
   "metadata": {
    "slideshow": {
     "slide_type": "slide"
    }
   },
   "source": [
    "Or ... \n",
    "\n",
    "<img src='imgs/golden-ratio-twitter1.png' width='400px' />\n"
   ]
  },
  {
   "cell_type": "code",
   "execution_count": null,
   "metadata": {
    "slideshow": {
     "slide_type": "slide"
    }
   },
   "outputs": [],
   "source": [
    "def fib(n): \n",
    "    if n == 0 or n == 1 :\n",
    "        return n \n",
    "    else: \n",
    "        return fib(n-1) + fib(n-2)                                                                                  "
   ]
  },
  {
   "cell_type": "code",
   "execution_count": null,
   "metadata": {},
   "outputs": [],
   "source": [
    "def fib(n):\n",
    "    if n == 0 or n ==1:\n",
    "        return n\n",
    "    else:\n",
    "        return fib(n-1) + fib(n-2)"
   ]
  },
  {
   "cell_type": "code",
   "execution_count": null,
   "metadata": {
    "slideshow": {
     "slide_type": "fragment"
    }
   },
   "outputs": [],
   "source": [
    "fib(20)   # Let's also try 2, 3, 5, 7, 10"
   ]
  },
  {
   "cell_type": "markdown",
   "metadata": {
    "slideshow": {
     "slide_type": "fragment"
    }
   },
   "source": [
    "Let's see `v = fib(3)` in tutor but let's split the return into `a` and `b`."
   ]
  },
  {
   "cell_type": "code",
   "execution_count": null,
   "metadata": {
    "slideshow": {
     "slide_type": "slide"
    }
   },
   "outputs": [],
   "source": [
    "%time fib(37)  # this will take a bit of time (but let's fix that later)"
   ]
  },
  {
   "cell_type": "code",
   "execution_count": null,
   "metadata": {
    "slideshow": {
     "slide_type": "slide"
    }
   },
   "outputs": [],
   "source": [
    "def fibnew(n): \n",
    "    if n <= 1: return n \n",
    " \n",
    "    a, b = 0, 1 \n",
    "    \n",
    "    for i in range(1, 8):\n",
    "        a, b = b, a + b\n",
    "        \n",
    "    return a"
   ]
  },
  {
   "cell_type": "code",
   "execution_count": null,
   "metadata": {},
   "outputs": [],
   "source": [
    "def fibnew(n):\n",
    "    if n <= 1: return n\n",
    "    \n",
    "    a, b = 0, 1\n",
    "    \n",
    "    for i in range(1,8):\n",
    "        a, b = b, a + b\n",
    "    return a"
   ]
  },
  {
   "cell_type": "code",
   "execution_count": null,
   "metadata": {},
   "outputs": [],
   "source": [
    "fibnew(12)"
   ]
  },
  {
   "cell_type": "code",
   "execution_count": null,
   "metadata": {
    "slideshow": {
     "slide_type": "fragment"
    }
   },
   "outputs": [],
   "source": [
    "0  1  1   2  3  5  8  13  21\n",
    "                      a    b"
   ]
  },
  {
   "cell_type": "code",
   "execution_count": null,
   "metadata": {
    "slideshow": {
     "slide_type": "slide"
    }
   },
   "outputs": [],
   "source": [
    "%time fibnew(10)"
   ]
  },
  {
   "cell_type": "markdown",
   "metadata": {},
   "source": [
    "## Reading Assignment \n",
    "\n",
    "Read up on PEP 8 -- Style Guide for Python Code https://www.python.org/dev/peps/pep-0008/ "
   ]
  },
  {
   "cell_type": "code",
   "execution_count": null,
   "metadata": {},
   "outputs": [],
   "source": [
    "x = 3\n",
    "ans = 0\n",
    "itersLeft = x\n",
    "while (itersLeft != 0):\n",
    "    ans = ans + x\n",
    "    itersLeft = itersLeft - 1\n",
    "print(str(x) + '*' + str(x) + ' = ' + str(ans))"
   ]
  },
  {
   "cell_type": "code",
   "execution_count": null,
   "metadata": {},
   "outputs": [],
   "source": [
    "x=25\n",
    "ans = 0\n",
    "while (ans<1):\n",
    "    print((str(x)+\"**2\")+\"=\"+str(x*x))\n",
    "    ans = ans+1"
   ]
  },
  {
   "cell_type": "code",
   "execution_count": null,
   "metadata": {},
   "outputs": [],
   "source": [
    "Replace the comment in the following code with a while loop.\n",
    "numXs = int(input('How many times should I print the letter X? '))\n",
    "toPrint = ''\n",
    "#concatenate X to toPrint numXs times\n",
    "print(toPrint)"
   ]
  },
  {
   "cell_type": "code",
   "execution_count": null,
   "metadata": {},
   "outputs": [],
   "source": [
    "nums=4\n",
    "i=0\n",
    "toPrint = \"How Lovely is you: \"\n",
    "while i < nums:\n",
    "    print(toPrint+\"X\")\n",
    "    i+=1"
   ]
  },
  {
   "cell_type": "code",
   "execution_count": null,
   "metadata": {},
   "outputs": [],
   "source": [
    "x=1\n",
    "while True:\n",
    "    if x%12 ==0 and x%14==0:\n",
    "        print(x)\n",
    "        break\n",
    "    x+=1\n",
    "print (f\"{x} is divisible by 12 and 14\")"
   ]
  },
  {
   "cell_type": "code",
   "execution_count": null,
   "metadata": {},
   "outputs": [],
   "source": [
    "Write a program that asks the user to input 10 integers, and then\n",
    "prints the largest odd number that was entered. If no odd number was entered, it\n",
    "should print a message to that effect."
   ]
  },
  {
   "cell_type": "code",
   "execution_count": null,
   "metadata": {},
   "outputs": [],
   "source": [
    "\n",
    "b = 10\n",
    "c=0\n",
    "x=[]\n",
    "while c<b:\n",
    "    a = int(input(\"Enter 10 numbers: \"))\n",
    "    if a%2==1:\n",
    "        x.append(a)\n",
    "    c+=1\n",
    "print(max(x))  \n",
    "\n",
    "    "
   ]
  },
  {
   "cell_type": "code",
   "execution_count": null,
   "metadata": {},
   "outputs": [],
   "source": [
    "x=3\n",
    "x = x**3\n",
    "y=0\n"
   ]
  },
  {
   "cell_type": "code",
   "execution_count": null,
   "metadata": {},
   "outputs": [],
   "source": [
    "x"
   ]
  },
  {
   "cell_type": "code",
   "execution_count": null,
   "metadata": {},
   "outputs": [],
   "source": [
    "Write a program that asks the user to enter an integer and prints\n",
    "two integers, root and pwr , such that 0 < pwr < 6 and root**pwr is equal to the in-\n",
    "teger entered by the user. If no such pair of integers exists, it should print a mes-\n",
    "sage to that effect."
   ]
  },
  {
   "cell_type": "code",
   "execution_count": null,
   "metadata": {},
   "outputs": [],
   "source": [
    "user = int(input(\"Enter a number: \"))\n",
    "x="
   ]
  },
  {
   "cell_type": "code",
   "execution_count": null,
   "metadata": {},
   "outputs": [],
   "source": [
    "x = int(input(\"Enter an integer: \"))\n",
    "pwr = 1 \n",
    "while pwr < 6 :\n",
    "    if x < 0:\n",
    "        root = x\n",
    "    else:\n",
    "        root = 0 \n",
    "    while root ** pwr <= x:\n",
    "        if root ** pwr == x:\n",
    "            print(root, \" ** \", pwr, \"=\", x)\n",
    "        else:\n",
    "            if x ** 1 != x:\n",
    "                print(x, \"No such integer pair exists.\")\n",
    "        root += 1\n",
    "    pwr += 1\n"
   ]
  },
  {
   "cell_type": "code",
   "execution_count": null,
   "metadata": {},
   "outputs": [],
   "source": [
    "x = int(input(\"Eneter a star: \"))\n",
    "for i in range(0,x+1):\n",
    "    print(\" \"*(x-i)+\"* \"*i)"
   ]
  },
  {
   "cell_type": "code",
   "execution_count": null,
   "metadata": {},
   "outputs": [],
   "source": [
    "x = int(input(\"Eneter a star: \"))\n",
    "# for i in range(0,x+1):\n",
    "#     print(\" \"*(x-i)+\"* \"*i)\n",
    "for i in range(x,0,-1):\n",
    "    print(\"  \"*(x-i)+\"* \"*i)"
   ]
  },
  {
   "cell_type": "code",
   "execution_count": 4,
   "metadata": {},
   "outputs": [
    {
     "data": {
      "text/plain": [
       "26"
      ]
     },
     "execution_count": 4,
     "metadata": {},
     "output_type": "execute_result"
    }
   ],
   "source": [
    "def sum1(a,b):\n",
    "    sum4=a+b\n",
    "    if sum4 <= 150:\n",
    "        return sum4\n",
    "    else:\n",
    "        loop=True\n",
    "        while sum4 > 150:\n",
    "            number1 = int(input(\"Enter a number 1: \"))\n",
    "            number2= int(input(\"Enter a number 2: \"))\n",
    "            if number1+number2 <= 150:\n",
    "                return number1+number2\n",
    "        loop=False\n",
    "            \n",
    "sum1(12,14)        \n"
   ]
  },
  {
   "cell_type": "code",
   "execution_count": null,
   "metadata": {},
   "outputs": [],
   "source": []
  }
 ],
 "metadata": {
  "celltoolbar": "Slideshow",
  "kernelspec": {
   "display_name": "Python 3",
   "language": "python",
   "name": "python3"
  },
  "language_info": {
   "codemirror_mode": {
    "name": "ipython",
    "version": 3
   },
   "file_extension": ".py",
   "mimetype": "text/x-python",
   "name": "python",
   "nbconvert_exporter": "python",
   "pygments_lexer": "ipython3",
   "version": "3.8.3"
  },
  "livereveal": {
   "transition": "fade"
  }
 },
 "nbformat": 4,
 "nbformat_minor": 2
}
